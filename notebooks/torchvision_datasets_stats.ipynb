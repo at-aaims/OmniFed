{
 "cells": [
  {
   "cell_type": "code",
   "execution_count": 1,
   "id": "09b3030d",
   "metadata": {},
   "outputs": [],
   "source": [
    "import os\n",
    "import numpy as np\n",
    "\n",
    "from torchvision import datasets, transforms\n",
    "\n",
    "train_transform = transforms.Compose([transforms.ToTensor()])\n"
   ]
  },
  {
   "cell_type": "code",
   "execution_count": 2,
   "id": "9620ba41",
   "metadata": {},
   "outputs": [
    {
     "name": "stdout",
     "output_type": "stream",
     "text": [
      "[60000, 28, 28]\n",
      "tensor(0.1307)\n",
      "tensor(0.3081)\n"
     ]
    }
   ],
   "source": [
    "# mnist\n",
    "train_set = datasets.MNIST(\n",
    "    root=\"/tmp/mnist\", train=True, download=True, transform=train_transform\n",
    ")\n",
    "print(list(train_set.data.size()))\n",
    "print(train_set.data.float().mean() / 255)\n",
    "print(train_set.data.float().std() / 255)\n",
    "# [60000, 28, 28]\n",
    "# tensor(0.1307)\n",
    "# tensor(0.3081)\n"
   ]
  },
  {
   "cell_type": "code",
   "execution_count": 3,
   "id": "374405c3",
   "metadata": {},
   "outputs": [
    {
     "name": "stdout",
     "output_type": "stream",
     "text": [
      "(50000, 32, 32, 3)\n",
      "[0.49139968 0.48215841 0.44653091]\n",
      "[0.24703223 0.24348513 0.26158784]\n"
     ]
    }
   ],
   "source": [
    "# cifar10\n",
    "train_set = datasets.CIFAR10(\n",
    "    root=\"/tmp/cifar10\", train=True, download=True, transform=train_transform\n",
    ")\n",
    "print(train_set.data.shape)\n",
    "print(train_set.data.mean(axis=(0, 1, 2)) / 255)\n",
    "print(train_set.data.std(axis=(0, 1, 2)) / 255)\n",
    "# (50000, 32, 32, 3)\n",
    "# [0.49139968 0.48215841 0.44653091]\n",
    "# [0.24703223 0.24348513 0.26158784]\n"
   ]
  },
  {
   "cell_type": "code",
   "execution_count": 4,
   "id": "bdc9c84c",
   "metadata": {},
   "outputs": [
    {
     "name": "stdout",
     "output_type": "stream",
     "text": [
      "(50000, 32, 32, 3)\n",
      "[0.50707516 0.48654887 0.44091784]\n",
      "[0.26733429 0.25643846 0.27615047]\n"
     ]
    }
   ],
   "source": [
    "# cifar100\n",
    "train_set = datasets.CIFAR100(\n",
    "    root=\"/tmp/cifar100\", train=True, download=True, transform=train_transform\n",
    ")\n",
    "print(train_set.data.shape)\n",
    "print(train_set.data.mean(axis=(0, 1, 2)) / 255)\n",
    "print(train_set.data.std(axis=(0, 1, 2)) / 255)\n",
    "# (50000, 32, 32, 3)\n",
    "# [0.50707516 0.48654887 0.44091784]\n",
    "# [0.26733429 0.25643846 0.27615047]\n"
   ]
  }
 ],
 "metadata": {
  "kernelspec": {
   "display_name": "Python 3",
   "language": "python",
   "name": "python3"
  },
  "language_info": {
   "codemirror_mode": {
    "name": "ipython",
    "version": 3
   },
   "file_extension": ".py",
   "mimetype": "text/x-python",
   "name": "python",
   "nbconvert_exporter": "python",
   "pygments_lexer": "ipython3",
   "version": "3.10.12"
  }
 },
 "nbformat": 4,
 "nbformat_minor": 5
}
